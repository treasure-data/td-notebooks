{
  "nbformat": 4,
  "nbformat_minor": 0,
  "metadata": {
    "colab": {
      "name": "Deploy treasure box.ipynb",
      "provenance": [],
      "collapsed_sections": [],
      "include_colab_link": true
    },
    "kernelspec": {
      "name": "python3",
      "display_name": "Python 3"
    }
  },
  "cells": [
    {
      "cell_type": "markdown",
      "metadata": {
        "id": "view-in-github",
        "colab_type": "text"
      },
      "source": [
        "<a href=\"https://colab.research.google.com/github/treasure-data/td-notebooks/blob/master/workflow/deploy_treasure_box.ipynb\" target=\"_parent\"><img src=\"https://colab.research.google.com/assets/colab-badge.svg\" alt=\"Open In Colab\"/></a>"
      ]
    },
    {
      "cell_type": "markdown",
      "metadata": {
        "id": "iswprbM4ATKr",
        "colab_type": "text"
      },
      "source": [
        "# Deploy Treasure Box from Google Colaboratory\n",
        "\n",
        "This notebook enables you to deploy [Tresure Boxes](https://boxes.treasuredata.com/hc/en-us) in 3 steps.\n",
        "\n",
        "1. Input your Treasure Data API key in the first cell.\n",
        "2. Modify **category**, **box_name**, **project_name**, **secrets**, and **site** in the form.\n",
        "3. Run following cells with following \"Runtime\" -> \"Run after\" and click the link in the output of the last cell.\n",
        "\n",
        "If you run this notebook for the first time, you'll see \"Warning: This notebook was not authored by Google.\". Arm Treasure Data doesn't save your data on the notebook, except for configuration you've set."
      ]
    },
    {
      "cell_type": "markdown",
      "metadata": {
        "id": "w3XjOarrBoQd",
        "colab_type": "text"
      },
      "source": [
        "## Input your Treasure Data API key\n",
        "\n",
        "You need to set TD API master key.\n",
        "\n",
        "To get the key, see also:\n",
        "https://support.treasuredata.com/hc/en-us/articles/360000763288-Get-API-Keys\n",
        "\n",
        "After running the following cell, an interactive box will be appered. You can paster your TD API key and then push retun key."
      ]
    },
    {
      "cell_type": "code",
      "metadata": {
        "id": "2LQdWsBo84hZ",
        "colab_type": "code",
        "outputId": "68293595-1766-40fb-fb9a-48d0759efc68",
        "colab": {
          "base_uri": "https://localhost:8080/",
          "height": 71
        },
        "cellView": "form"
      },
      "source": [
        "#@title\n",
        "import getpass\n",
        "\n",
        "print(\"Input your Treasure Data API key\")\n",
        "apikey = getpass.getpass()\n",
        "print(\"Secceeded\")"
      ],
      "execution_count": 1,
      "outputs": [
        {
          "output_type": "stream",
          "text": [
            "Input your Treasure Data API key\n",
            "··········\n",
            "Secceeded\n"
          ],
          "name": "stdout"
        }
      ]
    },
    {
      "cell_type": "markdown",
      "metadata": {
        "id": "clN4VX6BCB_M",
        "colab_type": "text"
      },
      "source": [
        "## Set configuration\n",
        "\n",
        "You can set target box name as well as secrets information.\n",
        "\n",
        "For example, if you want to deploy the box \n",
        "https://github.com/treasure-data/treasure-boxes/tree/master/integration-box/pandas\n",
        "you should set `category` as `\"integration-box\"`, `box_name` as `\"pandas\"`.\n",
        "\n",
        "You also have to set unique name for `project_name`, otherwise, you'll overwrite someone else's workflow project.\n",
        "\n",
        "Secrets information required by box may be different from default settings, so follow the README.md in the box on GitHub.\n",
        "\n",
        "The last variable you have to set is `site`. You can choose appropreate value for your TD region.\n",
        "\n",
        "If you need additional secrests, modify `secrets` variable."
      ]
    },
    {
      "cell_type": "code",
      "metadata": {
        "id": "wQ4Bdnn48bwt",
        "colab_type": "code",
        "cellView": "form",
        "colab": {}
      },
      "source": [
        "#@title Configure tresaure-boxes info\n",
        "#@markdown You can select category from dropdown list\n",
        "category = \"integration-box\" #@param [\"integration-box\", \"analytics-box\", \"machine-learning-box\", \"data-box\"]\n",
        "#@markdown Box name can be `pandas` if the workflow URL is `https://github.com/treasure-data/treasure-boxes/tree/master/integration-box/pandas`.\n",
        "box_name = \"pandas\" #@param {type: \"string\"}\n",
        "#@markdown Or, you can paste the box URL (optional). It works with master branch and will overwrite `category` and `box_name` if exists.\n",
        "#@markdown\n",
        "#@markdown E.g., `https://github.com/treasure-data/treasure-boxes/tree/master/integration-box/pandas`\n",
        "box_url = \"\" #@param {type: \"string\"}\n",
        "#@markdown Type unique projecrt name, that doesn't conflict with other project names.\n",
        "project_name = \"pandas-aki\"  #@param {type: \"string\"}\n",
        "#@markdown Select your site.\n",
        "site = \"us\" #@param [\"us\", \"jp\", \"eu01\"]\n",
        "\n",
        "APISERVERS = {\n",
        "    \"us\": \"https://api.treasuredata.com\",\n",
        "    \"jp\": \"https://api.treasuredata.co.jp\",\n",
        "    \"eu01\": \"https://api.eu01.treasuredata.com\"\n",
        "    }\n",
        "\n",
        "import re\n",
        "\n",
        "if box_url:\n",
        "    m = re.search(r\"(?:https://)github.com/treasure-data/treasure-boxes/tree/master/(?P<cat>.+?)/(?P<name>.+?)(/.+)?$\", box_url)\n",
        "    box_name = m.group(\"name\")\n",
        "    category = m.group(\"cat\")\n",
        "    if not box_name or not category:\n",
        "        raise(\"box_url is invalid.\")"
      ],
      "execution_count": 0,
      "outputs": []
    },
    {
      "cell_type": "markdown",
      "metadata": {
        "id": "BFmMBelaewZi",
        "colab_type": "text"
      },
      "source": [
        "If you want to set additional secrets, you can modify following cell. Note that, if you want to send secure information, we'd recommend you to use `getpass.getpass()` like `apikey`."
      ]
    },
    {
      "cell_type": "code",
      "metadata": {
        "id": "v27qtt-xemkN",
        "colab_type": "code",
        "colab": {},
        "cellView": "form"
      },
      "source": [
        "#@title Set secrets\n",
        "#@markdown If you want to set additional secrets, doubl click the cell and edit dictionary.\n",
        "\n",
        "\n",
        "# Write additional secrets, if needed.\n",
        "# Secrets information will be stored on Treasure Data\n",
        "secrets = {\n",
        "    \"td.apikey\": apikey,\n",
        "    \"td.apiserver\": APISERVERS[site],\n",
        "    # Add extra secrets if you want like:\n",
        "    # \"mysecrets\": \"SECRET-VALUE\",\n",
        "}\n"
      ],
      "execution_count": 0,
      "outputs": []
    },
    {
      "cell_type": "markdown",
      "metadata": {
        "id": "nidIdPpoDIwS",
        "colab_type": "text"
      },
      "source": [
        "## Deploy the box\n",
        "\n",
        "The following codes are to deploy the box with Python. It is based on [tdworkflow](https://github.com/chezou/tdworkflow) and [git-python](https://gitpython.readthedocs.io/en/stable/index.html)\n",
        "\n",
        "You don't need to read and understand the following codes. Just run through until the last cell. Then, you'll find a link to the deployed workflow."
      ]
    },
    {
      "cell_type": "code",
      "metadata": {
        "id": "pgQoR2037Z6L",
        "colab_type": "code",
        "outputId": "d311d14d-bb31-4610-e11a-547d70ff3937",
        "cellView": "form",
        "colab": {
          "base_uri": "https://localhost:8080/",
          "height": 53
        }
      },
      "source": [
        "#@title\n",
        "!pip install -U -q tdworkflow\n",
        "!pip install -q gitpython"
      ],
      "execution_count": 4,
      "outputs": [
        {
          "output_type": "stream",
          "text": [
            "\u001b[K     |████████████████████████████████| 460kB 2.8MB/s \n",
            "\u001b[K     |████████████████████████████████| 71kB 7.5MB/s \n",
            "\u001b[?25h"
          ],
          "name": "stdout"
        }
      ]
    },
    {
      "cell_type": "code",
      "metadata": {
        "id": "BBjdiRFf72n8",
        "colab_type": "code",
        "outputId": "a2b7c7d6-2f8d-4a59-a8ba-8268540f3e14",
        "cellView": "form",
        "colab": {
          "base_uri": "https://localhost:8080/",
          "height": 305
        }
      },
      "source": [
        "#@title\n",
        "import tempfile\n",
        "import os\n",
        "import shutil\n",
        "\n",
        "from git import Git\n",
        "\n",
        "\n",
        "tempdir = tempfile.gettempdir()\n",
        "\n",
        "git_repo = \"https://github.com/treasure-data/treasure-boxes/\"\n",
        "\n",
        "target_dir = os.path.join(tempdir, \"treasure-boxes\")\n",
        "\n",
        "\n",
        "if os.path.exists(target_dir):\n",
        "    shutil.rmtree(target_dir)\n",
        "\n",
        "try:\n",
        "    Git(tempdir).clone(git_repo)\n",
        "    print(\"Clone repository succeeded\")\n",
        "except Exception:\n",
        "    print(\"Repository clone failed\")\n",
        "    raise\n",
        "\n",
        "!ls {tempdir}/treasure-boxes\n",
        "\n",
        "project = client.create_project(project_name, target_path)\n",
        "CONSOLE_URL = {\n",
        "    \"us\": \"https://console.treasuredata.com/app/workflows\",\n",
        "    \"eu01\": \"https://console.eu01.treasuredata.com/app/workflows\",\n",
        "    \"jp\": \"https://console.treasuredata.co.jp/app/workflows\",\n",
        "}\n",
        "\n",
        "client.set_secrets(project, secrets)\n",
        "\n",
        "workflows = client.project_workflows(project)\n",
        "workflows = list(filter(lambda w: w.name != \"test\", workflows))\n",
        "if workflows:\n",
        "    print(f\"Project created! Open a workflow as the following on your browser and click 'New Run' button.:\")\n",
        "    for wf in workflows:\n",
        "        print(f\"{wf.name}:\\t{CONSOLE_URL[site]}/{wf.id}/info\")\n",
        "else:\n",
        "    print(\"Project creation failed.\")"
      ],
      "execution_count": 11,
      "outputs": [
        {
          "output_type": "stream",
          "text": [
            "Clone repository succeeded\n",
            "analytics-box\t LICENSE\t       scenarios  td_load\n",
            "data-box\t machine-learning-box  td\t  td_run\n",
            "integration-box  README.md\t       td_ddl\t  tool-box\n"
          ],
          "name": "stdout"
        },
        {
          "output_type": "stream",
          "text": [
            "Added /tmp/treasure-boxes/integration-box/pandas/README.md as README.md\n",
            "Added /tmp/treasure-boxes/integration-box/pandas/config as config\n",
            "Added /tmp/treasure-boxes/integration-box/pandas/config/params.test.yml as config/params.test.yml\n",
            "Added /tmp/treasure-boxes/integration-box/pandas/config/params.yml as config/params.yml\n",
            "Added /tmp/treasure-boxes/integration-box/pandas/py_scripts as py_scripts\n",
            "Added /tmp/treasure-boxes/integration-box/pandas/py_scripts/examples.py as py_scripts/examples.py\n",
            "Added /tmp/treasure-boxes/integration-box/pandas/test.dig as test.dig\n",
            "Added /tmp/treasure-boxes/integration-box/pandas/pandas-df.dig as pandas-df.dig\n",
            "Succeeded to set secret for td.apikey\n",
            "Succeeded to set secret for td.apiserver\n"
          ],
          "name": "stderr"
        },
        {
          "output_type": "stream",
          "text": [
            "Project created! Open a workflow as the following on your browser and click 'New Run' button.:\n",
            "pandas-df:\thttps://console.treasuredata.com/app/workflows/1795910/info\n"
          ],
          "name": "stdout"
        }
      ]
    }
  ]
}